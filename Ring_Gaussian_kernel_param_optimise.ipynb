{
 "cells": [
  {
   "cell_type": "code",
   "execution_count": 1,
   "metadata": {},
   "outputs": [],
   "source": [
    "import matplotlib as mpl\n",
    "import os, sys\n",
    "mpl.use('Agg')\n",
    "from LiteNet import *\n",
    "import tensorflow as tf\n",
    "import numpy as np\n",
    "import h5py as h5\n",
    "import matplotlib.pyplot as plt\n",
    "from scipy.spatial.distance import pdist\n",
    "from time import time\n",
    "from scipy.stats import multivariate_normal as mvn\n",
    "from tqdm import tqdm, trange\n",
    "np.set_printoptions(precision=3, linewidth=120)\n",
    "\n",
    "%matplotlib inline"
   ]
  },
  {
   "cell_type": "code",
   "execution_count": 2,
   "metadata": {
    "scrolled": true
   },
   "outputs": [
    {
     "name": "stderr",
     "output_type": "stream",
     "text": [
      "INFO: 2018-05-06 15:03:39,437: log.<module>(): Global logger initialised with loglevel 20\n",
      "INFO: 2018-05-06 15:03:39,637: log.<module>(): Global logger initialised with loglevel 20\n",
      "/nfs/nhome/live/kevinli/anaconda/lib/python2.7/site-packages/theano/gpuarray/dnn.py:135: UserWarning: Your cuDNN version is more recent than Theano. If you encounter problems, try updating Theano or downgrading cuDNN to version 5.1.\n",
      "  warnings.warn(\"Your cuDNN version is more recent than \"\n",
      "ERROR (theano.gpuarray): Could not initialize pygpu, support disabled\n",
      "Traceback (most recent call last):\n",
      "  File \"/nfs/nhome/live/kevinli/anaconda/lib/python2.7/site-packages/theano/gpuarray/__init__.py\", line 164, in <module>\n",
      "    use(config.device)\n",
      "  File \"/nfs/nhome/live/kevinli/anaconda/lib/python2.7/site-packages/theano/gpuarray/__init__.py\", line 151, in use\n",
      "    init_dev(device)\n",
      "  File \"/nfs/nhome/live/kevinli/anaconda/lib/python2.7/site-packages/theano/gpuarray/__init__.py\", line 68, in init_dev\n",
      "    context.cudnn_handle = dnn._make_handle(context)\n",
      "  File \"/nfs/nhome/live/kevinli/anaconda/lib/python2.7/site-packages/theano/gpuarray/dnn.py\", line 80, in _make_handle\n",
      "    cudnn = _dnn_lib()\n",
      "  File \"/nfs/nhome/live/kevinli/anaconda/lib/python2.7/site-packages/theano/gpuarray/dnn.py\", line 67, in _dnn_lib\n",
      "    raise RuntimeError('Could not find cudnn library (looked for v5[.1])')\n",
      "RuntimeError: Could not find cudnn library (looked for v5[.1])\n",
      "ERROR: 2018-05-06 15:03:41,664: __init__.<module>(): Could not initialize pygpu, support disabled\n",
      "Traceback (most recent call last):\n",
      "  File \"/nfs/nhome/live/kevinli/anaconda/lib/python2.7/site-packages/theano/gpuarray/__init__.py\", line 164, in <module>\n",
      "    use(config.device)\n",
      "  File \"/nfs/nhome/live/kevinli/anaconda/lib/python2.7/site-packages/theano/gpuarray/__init__.py\", line 151, in use\n",
      "    init_dev(device)\n",
      "  File \"/nfs/nhome/live/kevinli/anaconda/lib/python2.7/site-packages/theano/gpuarray/__init__.py\", line 68, in init_dev\n",
      "    context.cudnn_handle = dnn._make_handle(context)\n",
      "  File \"/nfs/nhome/live/kevinli/anaconda/lib/python2.7/site-packages/theano/gpuarray/dnn.py\", line 80, in _make_handle\n",
      "    cudnn = _dnn_lib()\n",
      "  File \"/nfs/nhome/live/kevinli/anaconda/lib/python2.7/site-packages/theano/gpuarray/dnn.py\", line 67, in _dnn_lib\n",
      "    raise RuntimeError('Could not find cudnn library (looked for v5[.1])')\n",
      "RuntimeError: Could not find cudnn library (looked for v5[.1])\n"
     ]
    }
   ],
   "source": [
    "from nystrom_kexpfam.data_generators.Gaussian import GaussianGridWrapped\n",
    "from nystrom_kexpfam.data_generators.Ring import Ring\n",
    "from nystrom_kexpfam.data_generators.Dataset import GlassPosteriorDataset\n",
    "\n",
    "from nystrom_kexpfam.log import logger\n",
    "from nystrom_kexpfam.visualisation import visualise_array_2d\n",
    "\n",
    "from nystrom_kexpfam.estimators.KMCLite import KMCLite"
   ]
  },
  {
   "cell_type": "code",
   "execution_count": 3,
   "metadata": {
    "collapsed": true
   },
   "outputs": [],
   "source": [
    "D = 20\n",
    "p = Ring(D=D, sigma=0.1\n",
    "         , N_train=10000, N_test=10000)\n",
    "\n",
    "#p = GaussianGridWrapped(D=2, sigma=0.1, N_train=10000, N_test=15000)\n",
    "def gen_data(n):\n",
    "    \n",
    "    rand_data = p.sample(n)\n",
    "    \n",
    "    return rand_data"
   ]
  },
  {
   "cell_type": "code",
   "execution_count": 4,
   "metadata": {},
   "outputs": [
    {
     "data": {
      "text/plain": [
       "<matplotlib.collections.PathCollection at 0x7fdacc65ea50>"
      ]
     },
     "execution_count": 4,
     "metadata": {},
     "output_type": "execute_result"
    },
    {
     "data": {
      "image/png": "[encoded data removed]",
      "text/plain": [
       "<matplotlib.figure.Figure at 0x7fdacc942350>"
      ]
     },
     "metadata": {},
     "output_type": "display_data"
    }
   ],
   "source": [
    "rand_train_data = gen_data(500)\n",
    "plt.scatter(rand_train_data[:,0],rand_train_data[:,1])\n",
    "#plt.scatter(rand_points[:,0],rand_points[:,1], alpha=0.5);"
   ]
  },
  {
   "cell_type": "code",
   "execution_count": 5,
   "metadata": {},
   "outputs": [
    {
     "data": {
      "text/plain": [
       "'\\n\\nsigma = 10**(tf.Variable(-0.28930734309156175, dtype=\"float32\"))\\nlam = 10**(tf.Variable(-3.7505961659489397, dtype=\"float32\"))\\n\\nlam2 = tf.identity(lam)\\nlam3= 10**(tf.constant(-50, dtype=\"float32\"))\\n'"
      ]
     },
     "execution_count": 5,
     "metadata": {},
     "output_type": "execute_result"
    }
   ],
   "source": [
    "net_type = \"i\"\n",
    "step_size = 1e-2\n",
    "init_std = 1e-1\n",
    "niter = 1000\n",
    "\n",
    "ndim = (50,)\n",
    "npoint = 500\n",
    "batch_size = 500\n",
    "ntrain = npoint\n",
    "nval = 500\n",
    "seed = 1\n",
    "\n",
    "ngrid = 100\n",
    "plot_size=12\n",
    "\n",
    "\n",
    "np.random.seed(1)\n",
    "\n",
    "sigma = 10**(tf.Variable(0, dtype=\"float32\"))\n",
    "\n",
    "lam = 10**(tf.Variable(-2, dtype=\"float32\"))\n",
    "lam2 = 10**(tf.Variable(-2, dtype=\"float32\"))\n",
    "\n",
    "#lam2 = tf.identity(lam)\n",
    "lam3= 10**(tf.Variable(-2, dtype=\"float32\"))\n",
    "'''\n",
    "\n",
    "sigma = 10**(tf.Variable(-0.28930734309156175, dtype=\"float32\"))\n",
    "lam = 10**(tf.Variable(-3.7505961659489397, dtype=\"float32\"))\n",
    "\n",
    "lam2 = tf.identity(lam)\n",
    "lam3= 10**(tf.constant(-50, dtype=\"float32\"))\n",
    "'''"
   ]
  },
  {
   "cell_type": "code",
   "execution_count": 6,
   "metadata": {
    "collapsed": true
   },
   "outputs": [],
   "source": [
    "scores = np.zeros(niter+1)\n",
    "sigmas = np.zeros(niter+1)\n",
    "lams   = np.zeros(niter+1)\n",
    "lam2s  = np.zeros(niter+1)\n",
    "lam3s  = np.zeros(niter+1)\n",
    "\n",
    "fvs = []\n",
    "\n",
    "test_data = tf.placeholder(\"float32\", shape=(None, D), name=\"test_data\")\n",
    "points  = tf.placeholder(\"float32\", shape=(npoint, D), name=\"points\")\n",
    "\n",
    "rand_val_data = gen_data(nval)\n",
    "rand_test_data = gen_data(nval)\n",
    "rand_points = gen_data(npoint)\n",
    "\n",
    "test_grad_true = p.grad_multiple(rand_test_data)\n",
    "\n",
    "if D == 2:\n",
    "    eval_points = np.array([[xv,yv] \n",
    "            for xv in np.linspace(-plot_size/2,plot_size/2,ngrid) \n",
    "                            for yv in np.linspace(-plot_size/2,plot_size/2,ngrid)])"
   ]
  },
  {
   "cell_type": "code",
   "execution_count": null,
   "metadata": {
    "collapsed": true
   },
   "outputs": [],
   "source": [
    "## print '=====building kernel'\n",
    "kernel  = GaussianKernel(sigma)\n",
    "kn = KernelModel(kernel)\n",
    "kn.alpha = tf.Variable(np.zeros(npoint, dtype=\"float32\"))\n",
    "    \n",
    "kn.set_points(points)\n",
    "\n",
    "loss, score, train_data, val_data, r_norm, l_norm, curve, alpha_assign = \\\n",
    "    kn.val_score(lam=lam, lam2=lam2, lam3=lam3)\n",
    "\n",
    "fv = kn.evaluate_fun(test_data)\n",
    "gv = kn.evaluate_grad(test_data)\n",
    "\n",
    "feed   = {train_data: rand_train_data,\n",
    "          val_data  : rand_val_data,\n",
    "          test_data : rand_test_data}\n",
    "feed[points] = feed[train_data]"
   ]
  },
  {
   "cell_type": "code",
   "execution_count": 8,
   "metadata": {
    "collapsed": true
   },
   "outputs": [],
   "source": [
    "#optimizer = tf.train.GradientDescentOptimizer(step_size)\n",
    "#optimizer = tf.train.MomentumOptimizer(step_size, momentum=0.9)\n",
    "optimizer = tf.train.AdamOptimizer(step_size)\n",
    "gradients, variables = zip(*optimizer.compute_gradients(loss))\n",
    "gradients, _ = tf.clip_by_global_norm(gradients, 1000)\n",
    "train_step = optimizer.apply_gradients(zip(gradients, variables))\n",
    "\n",
    "config = tf.ConfigProto(device_count={\"GPU\":1})\n",
    "config.gpu_options.allow_growth=True\n",
    "init = tf.global_variables_initializer()\n",
    "sess = tf.InteractiveSession()\n",
    "sess.run(init)"
   ]
  },
  {
   "cell_type": "code",
   "execution_count": 487,
   "metadata": {
    "scrolled": true
   },
   "outputs": [
    {
     "name": "stdout",
     "output_type": "stream",
     "text": [
      "==================\n",
      "Iteration     0, score  -446 (   -5), time taken 2.87\n",
      "true score 506.768583594\n",
      "sigma: 0.97724\n",
      "lam, lam2, lam3 0.00977237 0.00977237 0.00977237\n",
      "alpha: 1.3762\n",
      "rn, ln, c =  20446.2 1425.16 15818.8\n",
      "==================\n",
      "Iteration   100, score  -852 (   -5), time taken 21.18\n",
      "true score 90.329945843\n",
      "sigma: 0.31841\n",
      "lam, lam2, lam3 0.00249211 0.0023315 0.00179251\n",
      "alpha: 4.162\n",
      "rn, ln, c =  63845.3 12618.1 135826.0\n",
      "==================\n",
      "Iteration   200, score  -858 (   -5), time taken 36.88\n",
      "true score 93.1289512521\n",
      "sigma: 0.41328\n",
      "lam, lam2, lam3 0.00180971 0.00242609 0.0011927\n",
      "alpha: 4.2008\n",
      "rn, ln, c =  83705.8 14510.3 144468.0\n",
      "==================\n",
      "Iteration   300, score  -852 (   -5), time taken 52.62\n",
      "true score 81.7541050727\n",
      "sigma: 0.45785\n",
      "lam, lam2, lam3 0.00145091 0.00246569 0.000959504\n",
      "alpha: 4.3162\n",
      "rn, ln, c =  96909.1 14601.3 151571.0\n",
      "==================\n",
      "Iteration   400, score  -882 (   -5), time taken 68.45\n",
      "true score 79.2514249071\n",
      "sigma: 0.47473\n",
      "lam, lam2, lam3 0.00128384 0.00271423 0.000857748\n",
      "alpha: 4.3764\n",
      "rn, ln, c =  102527.0 15725.9 157085.0\n",
      "==================\n",
      "Iteration   500, score  -875 (   -5), time taken 84.23\n",
      "true score 86.5383962351\n",
      "sigma: 0.47824\n",
      "lam, lam2, lam3 0.00119581 0.00285587 0.000811482\n",
      "alpha: 4.4264\n",
      "rn, ln, c =  107685.0 15185.9 165111.0\n",
      "==================\n",
      "Iteration   600, score  -860 (   -5), time taken 99.95\n",
      "true score 81.2331682515\n",
      "sigma: 0.47003\n",
      "lam, lam2, lam3 0.00116562 0.00295449 0.000801834\n",
      "alpha: 4.3792\n",
      "rn, ln, c =  102421.0 15675.8 157018.0\n",
      "==================\n",
      "Iteration   700, score  -890 (   -5), time taken 115.78\n",
      "true score 86.8714051731\n",
      "sigma: 0.48099\n",
      "lam, lam2, lam3 0.00114642 0.00302056 0.000798062\n",
      "alpha: 4.3133\n",
      "rn, ln, c =  101380.0 15099.6 156151.0\n",
      "==================\n",
      "Iteration   800, score  -865 (   -5), time taken 131.51\n",
      "true score 81.9630964116\n",
      "sigma: 0.47551\n",
      "lam, lam2, lam3 0.00112564 0.00287628 0.000794816\n",
      "alpha: 4.3438\n",
      "rn, ln, c =  102325.0 15126.3 157116.0\n",
      "==================\n",
      "Iteration   900, score  -845 (   -5), time taken 147.29\n",
      "true score 81.1677257008\n",
      "sigma: 0.49097\n",
      "lam, lam2, lam3 0.00111611 0.00271626 0.000799783\n",
      "alpha: 4.3223\n",
      "rn, ln, c =  104798.0 15385.3 153633.0\n",
      "==================\n",
      "Iteration  1000, score  -893 (   -5), time taken 163.05\n",
      "true score 80.2573261798\n",
      "sigma: 0.47925\n",
      "lam, lam2, lam3 0.00112666 0.00284699 0.000818462\n",
      "alpha: 4.4217\n",
      "rn, ln, c =  106975.0 15819.6 165384.0\n"
     ]
    }
   ],
   "source": [
    "t0 = time()\n",
    "\n",
    "for i in range(niter+1):\n",
    "\n",
    "    if i% 20 == 0:\n",
    "        feed[val_data] = gen_data(nval)\n",
    "    \n",
    "    \n",
    "    feed[train_data] = gen_data(ntrain)\n",
    "    feed[val_data] = gen_data(nval)\n",
    "\n",
    "    feed[points] = feed[train_data]\n",
    "    \n",
    "\n",
    "\n",
    "    if i % (niter/5) == 0 and D == 2:\n",
    "\n",
    "        fv_val = sess.run(fv, feed_dict={train_data:feed[train_data], \n",
    "                                         test_data:eval_points,\n",
    "                                         points: feed[points]})\n",
    "        fv_val -= fv_val.mean()\n",
    "        fv_val = np.exp(fv_val)\n",
    "        fv_val /= np.sum(fv_val)\n",
    "        fvs.append(fv_val) \n",
    "\n",
    "\n",
    "    train_step.run(feed_dict=feed)\n",
    "    scores[i], r_norm_val, l_norm_val, curve_val, alpha_val = sess.run([score, r_norm, l_norm, \n",
    "                                                                        curve, kn.alpha], \n",
    "        feed_dict=feed)\n",
    "\n",
    "    sigmas[i], lams[i], lam2s[i] ,lam3s[i]  = sess.run([sigma, lam, lam2, lam3])\n",
    "\n",
    "    if i % min(100, niter/5) == 0:\n",
    "        gv_val = gv.eval(feed)\n",
    "        print '=================='\n",
    "        \n",
    "        print 'Iteration %5d, score %5.3g (%5.3g), time taken %.2f' % (i, scores[i], -D/4.0, time()-t0)\n",
    "        print 'true score', 0.5*np.mean(np.sum((test_grad_true - gv_val)**2,1))\n",
    "        print 'sigma: %.5f' % sigma.eval()\n",
    "        print 'lam, lam2, lam3', lam.eval(), lam2.eval(), lam3.eval()\n",
    "        print 'alpha: %.5g' % alpha_val.mean()\n",
    "        print 'rn, ln, c = ', r_norm_val, l_norm_val, curve_val\n"
   ]
  },
  {
   "cell_type": "code",
   "execution_count": 488,
   "metadata": {},
   "outputs": [
    {
     "data": {
      "image/png": "[encoded data removed]",
      "text/plain": [
       "<matplotlib.figure.Figure at 0x7ef986ab2f50>"
      ]
     },
     "metadata": {},
     "output_type": "display_data"
    }
   ],
   "source": [
    "\n",
    "fig, axes = plt.subplots(5,1,figsize=(5,7), sharex=True)\n",
    "ax = axes[0]\n",
    "ax.plot(scores)\n",
    "ax.set_title(\"scores\")\n",
    "ax = axes[1]\n",
    "ax.plot(sigmas)\n",
    "ax.set_title(\"sigma\")\n",
    "ax = axes[2]\n",
    "ax.plot(lams)\n",
    "ax.set_title(\"lam\")\n",
    "ax.set_yscale(\"log\")\n",
    "ax = axes[3]\n",
    "ax.plot(lam2s)\n",
    "ax.set_title(\"lam2\")\n",
    "ax.set_yscale(\"log\")\n",
    "ax = axes[4]\n",
    "ax.plot(lam3s)\n",
    "ax.set_title(\"lam3\")\n",
    "ax.set_yscale(\"log\")\n",
    "\n",
    "fig.tight_layout()\n",
    "#fig.savefig(\"figs/grid_dist/test_hist.pdf\") "
   ]
  },
  {
   "cell_type": "code",
   "execution_count": 489,
   "metadata": {
    "scrolled": true
   },
   "outputs": [
    {
     "name": "stdout",
     "output_type": "stream",
     "text": [
      "=== test 0 ===\n",
      "cv model score:  -880.932\n",
      "cv true score:   77.0206537508\n",
      "gs model score:  -876.140170041\n",
      "gs true score:   82.7146414161\n",
      "=== test 1 ===\n",
      "cv model score:  -873.853\n",
      "cv true score:   80.7486860184\n",
      "gs model score:  -864.243726087\n",
      "gs true score:   90.8086083481\n",
      "=== test 2 ===\n",
      "cv model score:  -865.082\n",
      "cv true score:   86.8479866741\n",
      "gs model score:  -856.307124506\n",
      "gs true score:   95.6144507952\n",
      "=== test 3 ===\n",
      "cv model score:  -868.057\n",
      "cv true score:   83.3904001915\n",
      "gs model score:  -863.320643955\n",
      "gs true score:   87.8611641756\n",
      "=== test 4 ===\n",
      "cv model score:  -869.487\n",
      "cv true score:   88.8549789557\n",
      "gs model score:  -861.421247104\n",
      "gs true score:   97.8755103906\n",
      "=== test 5 ===\n",
      "cv model score:  -866.254\n",
      "cv true score:   83.381616543\n",
      "gs model score:  -857.197030852\n",
      "gs true score:   92.038983668\n",
      "=== test 6 ===\n",
      "cv model score:  -868.317\n",
      "cv true score:   83.3242273992\n",
      "gs model score:  -862.130862785\n",
      "gs true score:   88.8675351301\n",
      "=== test 7 ===\n",
      "cv model score:  -870.191\n",
      "cv true score:   86.4068014794\n",
      "gs model score:  -861.96378365\n",
      "gs true score:   94.9815129373\n",
      "=== test 8 ===\n",
      "cv model score:  -869.584\n",
      "cv true score:   87.3851994803\n",
      "gs model score:  -858.834319459\n",
      "gs true score:   98.734997854\n",
      "=== test 9 ===\n",
      "cv model score:  -872.043\n",
      "cv true score:   80.9903573894\n",
      "gs model score:  -858.677341758\n",
      "gs true score:   94.825615178\n",
      "=== test 10 ===\n",
      "cv model score:  -878.576\n",
      "cv true score:   77.190758388\n",
      "gs model score:  -869.596967276\n",
      "gs true score:   86.6859666361\n",
      "=== test 11 ===\n",
      "cv model score:  -867.558\n",
      "cv true score:   83.7573303724\n",
      "gs model score:  -857.948244193\n",
      "gs true score:   93.3082687607\n",
      "=== test 12 ===\n",
      "cv model score:  -867.388\n",
      "cv true score:   84.6062037838\n",
      "gs model score:  -861.155867423\n",
      "gs true score:   91.0133519063\n",
      "=== test 13 ===\n",
      "cv model score:  -855.837\n",
      "cv true score:   86.7624302356\n",
      "gs model score:  -846.262159239\n",
      "gs true score:   94.2737953916\n",
      "=== test 14 ===\n",
      "cv model score:  -871.06\n",
      "cv true score:   80.9928817326\n",
      "gs model score:  -864.212635057\n",
      "gs true score:   87.8109835185\n",
      "=== test 15 ===\n",
      "cv model score:  -870.995\n",
      "cv true score:   81.3059324469\n",
      "gs model score:  -861.000650017\n",
      "gs true score:   91.1069466932\n",
      "=== test 16 ===\n",
      "cv model score:  -864.465\n",
      "cv true score:   83.751570916\n",
      "gs model score:  -851.76443512\n",
      "gs true score:   96.1605776084\n",
      "=== test 17 ===\n",
      "cv model score:  -860.132\n",
      "cv true score:   88.0398801969\n",
      "gs model score:  -851.696992255\n",
      "gs true score:   95.7530534018\n",
      "=== test 18 ===\n",
      "cv model score:  -866.937\n",
      "cv true score:   84.9270907112\n",
      "gs model score:  -857.377757071\n",
      "gs true score:   94.2646429938\n",
      "=== test 19 ===\n",
      "cv model score:  -872.667\n",
      "cv true score:   82.0255410308\n",
      "gs model score:  -866.301361859\n",
      "gs true score:   88.8592670035\n"
     ]
    }
   ],
   "source": [
    "np.random.seed(1)\n",
    "\n",
    "cv_scores=[]\n",
    "gs_scores=[]\n",
    "\n",
    "for i in range(20):\n",
    "    print \"=== test %d ===\" % i\n",
    "    batch_size = 500\n",
    "    rand_train_data = gen_data(batch_size)\n",
    "    rand_test_data = gen_data(batch_size*10)\n",
    "\n",
    "    cv_ge = []\n",
    "    sc = []\n",
    "    for i in range(rand_test_data.shape[0]/batch_size):\n",
    "        d = rand_test_data[i*batch_size:(i+1)*batch_size]\n",
    "        o1, o2 = sess.run([gv, score], feed_dict={train_data: rand_train_data, \n",
    "                                                  test_data: d, \n",
    "                                                  points:rand_train_data,\n",
    "                                                  val_data: d})\n",
    "        cv_ge += [o1]\n",
    "        sc += [o2]\n",
    "\n",
    "    cv_ge = np.concatenate(cv_ge,0)\n",
    "    gt = p.grad_multiple(rand_test_data)\n",
    "    cv_score = 0.5*np.mean(np.sum((cv_ge-gt)**2,1))\n",
    "    print \"cv model score: \", np.mean(sc)\n",
    "    print \"cv true score:  \", cv_score\n",
    "\n",
    "    \n",
    "    \n",
    "    if D == 2:\n",
    "        est = KMCLite(m = 500, sigma = np.exp(0.1224), lmbda = np.exp(-4.1224))\n",
    "    elif D == 4:\n",
    "        est = KMCLite(m = 500, sigma = np.exp(-0.0612), lmbda = np.exp(-2.8980))\n",
    "    elif D == 6:\n",
    "        est = KMCLite(m = 500, sigma = np.exp(-0.0612), lmbda = np.exp(-2.4082))\n",
    "    elif D == 8:\n",
    "        est = KMCLite(m = 500, sigma = np.exp(-0.0612), lmbda = np.exp(-1.9184))\n",
    "    elif D == 10:\n",
    "        est = KMCLite(m = 500, sigma = np.exp(-0.0612), lmbda = np.exp(-1.9184))\n",
    "\n",
    "\n",
    "\n",
    "    est.fit(rand_train_data)\n",
    "\n",
    "    gs_ge = est.grad(rand_test_data)\n",
    "\n",
    "    sc = []\n",
    "    for i in range(rand_test_data.shape[0]/batch_size):\n",
    "        d = rand_test_data[i*batch_size:(i+1)*batch_size]\n",
    "        sc += [est.score(d)]\n",
    "        \n",
    "    gs_score = 0.5*np.mean(np.sum((gs_ge-gt)**2,1))\n",
    "    print \"gs model score: \", np.mean(sc)\n",
    "    print \"gs true score:  \", gs_score\n",
    "    #plt.scatter(gt.flatten(), ge.flatten(), 5, marker='x');\n",
    "    #plt.scatter(gt.flatten(), ge_kn.flatten(), 5, marker='o');\n",
    "    #plt.legend([\"gs\",\"cv\"])\n",
    "    #plt.plot([-40,40],[-40,40])\n",
    "    cv_scores.append(cv_score)\n",
    "    gs_scores.append(gs_score)"
   ]
  },
  {
   "cell_type": "code",
   "execution_count": 478,
   "metadata": {},
   "outputs": [
    {
     "data": {
      "text/plain": [
       "0.42033573252577805"
      ]
     },
     "execution_count": 478,
     "metadata": {},
     "output_type": "execute_result"
    }
   ],
   "source": [
    "np.mean(np.array(gs_scores) - np.array(cv_scores))"
   ]
  },
  {
   "cell_type": "code",
   "execution_count": 479,
   "metadata": {
    "scrolled": true
   },
   "outputs": [
    {
     "data": {
      "text/plain": [
       "Ttest_relResult(statistic=-5.2591274366987069, pvalue=4.471391934482587e-05)"
      ]
     },
     "execution_count": 479,
     "metadata": {},
     "output_type": "execute_result"
    }
   ],
   "source": [
    "ttest_rel(cv_scores, gs_scores)"
   ]
  },
  {
   "cell_type": "code",
   "execution_count": 480,
   "metadata": {
    "scrolled": true
   },
   "outputs": [
    {
     "name": "stdout",
     "output_type": "stream",
     "text": [
      "MannwhitneyuResult(statistic=12404863.0, pvalue=0.25491832931691616)\n"
     ]
    },
    {
     "data": {
      "image/png": "[encoded data removed]",
      "text/plain": [
       "<matplotlib.figure.Figure at 0x7ef959b89290>"
      ]
     },
     "metadata": {},
     "output_type": "display_data"
    }
   ],
   "source": [
    "\n",
    "def plot_error_cdf(data, bins = 10, ax = None):\n",
    "    if ax is None:\n",
    "        _, ax = plt.subplots()\n",
    "    counts, _ = np.histogram(data, bins=bins, normed=True)\n",
    "    centers = 0.5*(bins[1:]+bins[:-1])\n",
    "    cdf    = np.cumsum(counts)\n",
    "    ax.plot(centers, cdf)\n",
    "    \n",
    "fig, ax = plt.subplots()\n",
    "bins = np.linspace(0,100,101)\n",
    "\n",
    "gs_errors = np.sum((gs_ge-gt)**2,1)\n",
    "cv_errors = np.sum((cv_ge-gt)**2,1)\n",
    "\n",
    "plot_error_cdf(cv_errors, bins = bins, ax=ax)\n",
    "plot_error_cdf(gs_errors, bins = bins, ax=ax)\n",
    "plt.legend([\"cv\",\"gs\"])\n",
    "a = wilcoxon(cv_errors, gs_errors)\n",
    "print mannwhitneyu(cv_errors, gs_errors)"
   ]
  },
  {
   "cell_type": "code",
   "execution_count": 437,
   "metadata": {},
   "outputs": [
    {
     "data": {
      "text/plain": [
       "'results/param_search/Ring_D4_rep50_res40.h5'"
      ]
     },
     "execution_count": 437,
     "metadata": {},
     "output_type": "execute_result"
    }
   ],
   "source": [
    "\"results/param_search/Ring_D%d_rep50_res40.h5\" % 4"
   ]
  },
  {
   "cell_type": "code",
   "execution_count": 449,
   "metadata": {},
   "outputs": [
    {
     "name": "stdout",
     "output_type": "stream",
     "text": [
      "[u'lams', u'scores', u'sigs']\n"
     ]
    }
   ],
   "source": [
    "import h5py as h5 \n",
    "with h5.File(\"results/param_search/Ring_D%d_rep50_res40.h5\" % 4,\"r\") as f:\n",
    "    print f.keys()\n",
    "    grid_scores = f[\"scores\"].value\n",
    "    if \"all_scores\" in f.keys():\n",
    "        grid_all_scores = f[\"all_scores\"].value\n",
    "    Y = f[\"lams\"].value\n",
    "    X = f[\"sigs\"].value"
   ]
  },
  {
   "cell_type": "code",
   "execution_count": 450,
   "metadata": {},
   "outputs": [
    {
     "data": {
      "text/plain": [
       "array([-6.   , -5.897, -5.795, -5.692, -5.59 , -5.487, -5.385, -5.282, -5.179, -5.077, -4.974, -4.872, -4.769, -4.667,\n",
       "       -4.564, -4.462, -4.359, -4.256, -4.154, -4.051, -3.949, -3.846, -3.744, -3.641, -3.538, -3.436, -3.333, -3.231,\n",
       "       -3.128, -3.026, -2.923, -2.821, -2.718, -2.615, -2.513, -2.41 , -2.308, -2.205, -2.103, -2.   ], dtype=float32)"
      ]
     },
     "execution_count": 450,
     "metadata": {},
     "output_type": "execute_result"
    }
   ],
   "source": [
    "Y"
   ]
  },
  {
   "cell_type": "code",
   "execution_count": 451,
   "metadata": {},
   "outputs": [
    {
     "data": {
      "text/plain": [
       "<matplotlib.text.Text at 0x7ef986a19110>"
      ]
     },
     "execution_count": 451,
     "metadata": {},
     "output_type": "execute_result"
    },
    {
     "data": {
      "image/png": "[encoded data removed]",
      "text/plain": [
       "<matplotlib.figure.Figure at 0x7ef98667ec90>"
      ]
     },
     "metadata": {},
     "output_type": "display_data"
    }
   ],
   "source": [
    "fig, ax = plt.subplots()\n",
    "#X = np.linspace(-2,3,50, dtype=\"float32\")\n",
    "#Y = np.linspace(-7,-2,50, dtype=\"float32\")\n",
    "\n",
    "dX = X[1]-X[0]\n",
    "dY = Y[1]-Y[0]\n",
    "\n",
    "def linedge(grid):\n",
    "    d = grid[2]-grid[1]\n",
    "    return np.r_[grid-d/2, grid[-1]+d/2]\n",
    "\n",
    "min_score = np.log10(grid_scores).min()\n",
    "m = ax.pcolor(linedge(X), linedge(Y), np.log10(grid_scores).T, vmin = min_score, vmax=min_score+1.5)\n",
    "plt.colorbar(m)\n",
    "cm = plt.get_cmap(\"brg\")\n",
    "\n",
    "log_sigams = np.log10(sigmas)\n",
    "log_lambdas = np.log10(lam2s)\n",
    "\n",
    "#ax.plot(log_sigams,log_lambdas,zorder=3, marker='.', lw=2);\n",
    "traj_idx = np.arange(0,5*niter/5,1)\n",
    "colors = cm(np.linspace(0,1, len(traj_idx)))\n",
    "\n",
    "ax.scatter(log_sigams[traj_idx],log_lambdas[traj_idx],  np.ones(len(traj_idx))*5, colors,\n",
    "           marker=\"o\", zorder=2);\n",
    "#ax.plot(log_sigams[0], log_lambdas[0], \"x\", ms=10, c=\"b\")\n",
    "\n",
    "#ax.plot(log_sigams[-1], log_lambdas[-1], \"^\", ms=10, mew=2,c=\"g\", alpha=0.8)\n",
    "\n",
    "best_ind = np.unravel_index(np.nanargmin(grid_scores), grid_scores.shape)\n",
    "plt.plot(X[best_ind[0]], Y[best_ind[1]], 'x', markersize=15, mew=3)\n",
    "\n",
    "\n",
    "#plt.xlim([-1,0])\n",
    "#plt.ylim([-4.5,-3])\n",
    "plt.xlabel(r\"$\\log\\sigma$\", fontsize=15)\n",
    "plt.ylabel(r\"$\\log\\lambda$\", fontsize=15)"
   ]
  },
  {
   "cell_type": "code",
   "execution_count": 452,
   "metadata": {},
   "outputs": [
    {
     "data": {
      "text/plain": [
       "(15, 30)"
      ]
     },
     "execution_count": 452,
     "metadata": {},
     "output_type": "execute_result"
    }
   ],
   "source": [
    "best_ind"
   ]
  },
  {
   "cell_type": "code",
   "execution_count": 453,
   "metadata": {},
   "outputs": [
    {
     "data": {
      "text/plain": [
       "MannwhitneyuResult(statistic=2321.0, pvalue=2.9823998925796653e-11)"
      ]
     },
     "execution_count": 453,
     "metadata": {},
     "output_type": "execute_result"
    },
    {
     "data": {
      "image/png": "[encoded data removed]",
      "text/plain": [
       "<matplotlib.figure.Figure at 0x7efa21589b50>"
      ]
     },
     "metadata": {},
     "output_type": "display_data"
    }
   ],
   "source": [
    "from scipy.stats import mannwhitneyu, wilcoxon\n",
    "\n",
    "\n",
    "ind = tuple(best_ind+np.array([0,-2]))\n",
    "plt.hist(grid_all_scores[best_ind])\n",
    "plt.hist(grid_all_scores[ind])\n",
    "mannwhitneyu(grid_all_scores[best_ind],grid_all_scores[ind])"
   ]
  },
  {
   "cell_type": "code",
   "execution_count": 454,
   "metadata": {},
   "outputs": [
    {
     "data": {
      "text/plain": [
       "(-4.5, -3.5)"
      ]
     },
     "execution_count": 454,
     "metadata": {},
     "output_type": "execute_result"
    },
    {
     "data": {
      "image/png": "[encoded data removed]",
      "text/plain": [
       "<matplotlib.figure.Figure at 0x7ef986a88890>"
      ]
     },
     "metadata": {},
     "output_type": "display_data"
    }
   ],
   "source": [
    "plt.pcolormesh(linedge(X), linedge(Y), np.log10(grid_scores).T, vmin=np.log10(7.5),vmax=np.log10(8.2))\n",
    "plt.scatter(log_sigams[traj_idx],log_lambdas[traj_idx],  np.ones(len(traj_idx))*5, colors,\n",
    "           marker=\"o\", zorder=2, alpha=0.5);\n",
    "\n",
    "plt.xlim([-0.5,0.5])\n",
    "plt.ylim([-4.5,-3.5])"
   ]
  },
  {
   "cell_type": "code",
   "execution_count": 455,
   "metadata": {},
   "outputs": [
    {
     "data": {
      "text/plain": [
       "(-0.46153846, -2.9230769)"
      ]
     },
     "execution_count": 455,
     "metadata": {},
     "output_type": "execute_result"
    }
   ],
   "source": [
    "X[best_ind[0]], Y[best_ind[1]]"
   ]
  },
  {
   "cell_type": "code",
   "execution_count": 456,
   "metadata": {
    "scrolled": false
   },
   "outputs": [
    {
     "ename": "IndexError",
     "evalue": "index out of range",
     "output_type": "error",
     "traceback": [
      "\u001b[0;31m---------------------------------------------------------------------------\u001b[0m",
      "\u001b[0;31mIndexError\u001b[0m                                Traceback (most recent call last)",
      "\u001b[0;32m<ipython-input-456-5ce5451b8791>\u001b[0m in \u001b[0;36m<module>\u001b[0;34m()\u001b[0m\n\u001b[1;32m      1\u001b[0m \u001b[0;34m\u001b[0m\u001b[0m\n\u001b[1;32m      2\u001b[0m \u001b[0mnfvs\u001b[0m  \u001b[0;34m=\u001b[0m \u001b[0mlen\u001b[0m\u001b[0;34m(\u001b[0m\u001b[0mfvs\u001b[0m\u001b[0;34m)\u001b[0m\u001b[0;34m\u001b[0m\u001b[0m\n\u001b[0;32m----> 3\u001b[0;31m \u001b[0mfig\u001b[0m\u001b[0;34m,\u001b[0m \u001b[0maxes\u001b[0m \u001b[0;34m=\u001b[0m \u001b[0mplt\u001b[0m\u001b[0;34m.\u001b[0m\u001b[0msubplots\u001b[0m\u001b[0;34m(\u001b[0m\u001b[0;36m3\u001b[0m\u001b[0;34m,\u001b[0m \u001b[0mnfvs\u001b[0m\u001b[0;34m,\u001b[0m\u001b[0mfigsize\u001b[0m\u001b[0;34m=\u001b[0m\u001b[0;34m(\u001b[0m\u001b[0;36m15\u001b[0m\u001b[0;34m,\u001b[0m\u001b[0;36m8\u001b[0m\u001b[0;34m)\u001b[0m\u001b[0;34m,\u001b[0m \u001b[0msharex\u001b[0m\u001b[0;34m=\u001b[0m\u001b[0mTrue\u001b[0m\u001b[0;34m,\u001b[0m \u001b[0msharey\u001b[0m\u001b[0;34m=\u001b[0m\u001b[0mTrue\u001b[0m\u001b[0;34m)\u001b[0m\u001b[0;34m\u001b[0m\u001b[0m\n\u001b[0m\u001b[1;32m      4\u001b[0m \u001b[0mrand_data\u001b[0m \u001b[0;34m=\u001b[0m \u001b[0;34m(\u001b[0m\u001b[0mngrid\u001b[0m\u001b[0;34m/\u001b[0m\u001b[0;36m2\u001b[0m\u001b[0;34m)\u001b[0m\u001b[0;34m+\u001b[0m\u001b[0;34m(\u001b[0m\u001b[0mrand_train_data\u001b[0m\u001b[0;34m*\u001b[0m\u001b[0mngrid\u001b[0m\u001b[0;34m/\u001b[0m\u001b[0mplot_size\u001b[0m\u001b[0;34m)\u001b[0m\u001b[0;34m\u001b[0m\u001b[0m\n\u001b[1;32m      5\u001b[0m \u001b[0mvmin\u001b[0m \u001b[0;34m=\u001b[0m \u001b[0mmin\u001b[0m\u001b[0;34m(\u001b[0m\u001b[0mmap\u001b[0m\u001b[0;34m(\u001b[0m\u001b[0mnp\u001b[0m\u001b[0;34m.\u001b[0m\u001b[0mmin\u001b[0m\u001b[0;34m,\u001b[0m \u001b[0mfvs\u001b[0m\u001b[0;34m)\u001b[0m\u001b[0;34m)\u001b[0m\u001b[0;34m\u001b[0m\u001b[0m\n",
      "\u001b[0;32m/nfs/nhome/live/kevinli/anaconda/lib/python2.7/site-packages/matplotlib/pyplot.pyc\u001b[0m in \u001b[0;36msubplots\u001b[0;34m(nrows, ncols, sharex, sharey, squeeze, subplot_kw, gridspec_kw, **fig_kw)\u001b[0m\n\u001b[1;32m   1209\u001b[0m \u001b[0;34m\u001b[0m\u001b[0m\n\u001b[1;32m   1210\u001b[0m     \u001b[0;31m# Create first subplot separately, so we can share it if requested\u001b[0m\u001b[0;34m\u001b[0m\u001b[0;34m\u001b[0m\u001b[0m\n\u001b[0;32m-> 1211\u001b[0;31m     \u001b[0max0\u001b[0m \u001b[0;34m=\u001b[0m \u001b[0mfig\u001b[0m\u001b[0;34m.\u001b[0m\u001b[0madd_subplot\u001b[0m\u001b[0;34m(\u001b[0m\u001b[0mgs\u001b[0m\u001b[0;34m[\u001b[0m\u001b[0;36m0\u001b[0m\u001b[0;34m,\u001b[0m \u001b[0;36m0\u001b[0m\u001b[0;34m]\u001b[0m\u001b[0;34m,\u001b[0m \u001b[0;34m**\u001b[0m\u001b[0msubplot_kw\u001b[0m\u001b[0;34m)\u001b[0m\u001b[0;34m\u001b[0m\u001b[0m\n\u001b[0m\u001b[1;32m   1212\u001b[0m     \u001b[0maxarr\u001b[0m\u001b[0;34m[\u001b[0m\u001b[0;36m0\u001b[0m\u001b[0;34m]\u001b[0m \u001b[0;34m=\u001b[0m \u001b[0max0\u001b[0m\u001b[0;34m\u001b[0m\u001b[0m\n\u001b[1;32m   1213\u001b[0m \u001b[0;34m\u001b[0m\u001b[0m\n",
      "\u001b[0;32m/nfs/nhome/live/kevinli/anaconda/lib/python2.7/site-packages/matplotlib/gridspec.pyc\u001b[0m in \u001b[0;36m__getitem__\u001b[0;34m(self, key)\u001b[0m\n\u001b[1;32m    166\u001b[0m                     \u001b[0mk2\u001b[0m \u001b[0;34m+=\u001b[0m \u001b[0mncols\u001b[0m\u001b[0;34m\u001b[0m\u001b[0m\n\u001b[1;32m    167\u001b[0m                 \u001b[0;32mif\u001b[0m \u001b[0mk2\u001b[0m \u001b[0;34m>=\u001b[0m \u001b[0mncols\u001b[0m \u001b[0;32mor\u001b[0m \u001b[0mk2\u001b[0m \u001b[0;34m<\u001b[0m \u001b[0;36m0\u001b[0m \u001b[0;34m:\u001b[0m\u001b[0;34m\u001b[0m\u001b[0m\n\u001b[0;32m--> 168\u001b[0;31m                     \u001b[0;32mraise\u001b[0m \u001b[0mIndexError\u001b[0m\u001b[0;34m(\u001b[0m\u001b[0;34m\"index out of range\"\u001b[0m\u001b[0;34m)\u001b[0m\u001b[0;34m\u001b[0m\u001b[0m\n\u001b[0m\u001b[1;32m    169\u001b[0m                 \u001b[0mcol1\u001b[0m\u001b[0;34m,\u001b[0m \u001b[0mcol2\u001b[0m \u001b[0;34m=\u001b[0m \u001b[0mk2\u001b[0m\u001b[0;34m,\u001b[0m \u001b[0mk2\u001b[0m\u001b[0;34m+\u001b[0m\u001b[0;36m1\u001b[0m\u001b[0;34m\u001b[0m\u001b[0m\n\u001b[1;32m    170\u001b[0m \u001b[0;34m\u001b[0m\u001b[0m\n",
      "\u001b[0;31mIndexError\u001b[0m: index out of range"
     ]
    },
    {
     "data": {
      "text/plain": [
       "<matplotlib.figure.Figure at 0x7efa21589dd0>"
      ]
     },
     "metadata": {},
     "output_type": "display_data"
    }
   ],
   "source": [
    "\n",
    "nfvs  = len(fvs)\n",
    "fig, axes = plt.subplots(3, nfvs,figsize=(15,8), sharex=True, sharey=True)\n",
    "rand_data = (ngrid/2)+(rand_train_data*ngrid/plot_size)\n",
    "vmin = min(map(np.min, fvs))\n",
    "vmax = max(map(np.max, fvs))\n",
    "\n",
    "for i in range(len(fvs)):\n",
    "\n",
    "    iter_number = niter/5*i\n",
    "    ax = axes[0, i]\n",
    "\n",
    "    hist = (fvs[i])\n",
    "\n",
    "    ax.imshow( hist.reshape(ngrid, ngrid).T)\n",
    "    ax.set_title(\"it=%d, sc=%.3f\" % (iter_number, scores[iter_number]))\n",
    "    ax.set_axis_off()\n",
    "\n",
    "    ax = axes[1, i]\n",
    "    ax.imshow( np.log(hist).reshape(ngrid, ngrid).T)\n",
    "    ax.set_axis_off()\n",
    "\n",
    "\n",
    "    ax = axes[2, i]\n",
    "    ax.scatter(rand_data[:,0], rand_data[:,1], 1, \"k\", alpha=1)\n",
    "    ax.set_axis_off()\n",
    "\n",
    "\n",
    "#plt.show()\n",
    "#fig.savefig(\"figs/grid_dist/2d_dist_nt%s_np%d_s%02d.pdf\" % (net_type, npoint, seed))\n",
    "#fig.savefig(\"figs/grid_dist/test.pdf\") \n"
   ]
  },
  {
   "cell_type": "code",
   "execution_count": null,
   "metadata": {
    "collapsed": true
   },
   "outputs": [],
   "source": []
  }
 ],
 "metadata": {
  "kernelspec": {
   "display_name": "Python [conda root]",
   "language": "python",
   "name": "conda-root-py"
  },
  "language_info": {
   "codemirror_mode": {
    "name": "ipython",
    "version": 2
   },
   "file_extension": ".py",
   "mimetype": "text/x-python",
   "name": "python",
   "nbconvert_exporter": "python",
   "pygments_lexer": "ipython2",
   "version": "2.7.13"
  }
 },
 "nbformat": 4,
 "nbformat_minor": 2
}
